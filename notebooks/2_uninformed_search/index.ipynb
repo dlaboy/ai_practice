{
  "cells": [
    {
      "cell_type": "markdown",
      "source": [
        "# Breath First Search\n"
      ],
      "metadata": {
        "id": "9t3bKT1twafL"
      }
    },
    {
      "cell_type": "code",
      "source": [
        "from collections import deque\n",
        "\n",
        "def bfs(graph, start, search_value, visited=None):\n",
        "    if visited is None:\n",
        "        visited = set()\n",
        "        if start == search_value:\n",
        "            return True\n",
        "    visited.add(start)\n",
        "    print(f\"Current state of visited: {visited}\")\n",
        "\n",
        "    queue = deque()\n",
        "    queue.append(start)\n",
        "    while queue:\n",
        "      for neighbour in graph[start]:\n",
        "        print(f\"Neighbour Visiting Now: {neighbour}\")\n",
        "        if neighbour not in visited:\n",
        "          found = bfs(graph, neighbour, search_value, visited)\n",
        "          if found:\n",
        "                return True\n",
        "        else:\n",
        "            print(f\"\\033[31mNeighbour Already Visited: {neighbour}\\033[0m\")\n",
        "      queue.popleft()\n",
        "    return False\n",
        "\n",
        "\n",
        "\n",
        "\n",
        "graph = {\n",
        "'A': ['B', 'C'],\n",
        "'B': ['A', 'D', 'E'],\n",
        "'C': ['A', 'F'],\n",
        "'D': ['B'],\n",
        "'E': ['B', 'F'],\n",
        "'F': ['C', 'E']\n",
        "}\n",
        "\n",
        "start = \"A\"\n",
        "search_value = \"Z\"\n",
        "res = bfs(graph, start, search_value)\n",
        "print(f\"element {search_value} : {res}\")\n",
        "\n",
        "\n"
      ],
      "metadata": {
        "colab": {
          "base_uri": "https://localhost:8080/"
        },
        "id": "vh-VVYT6wik2",
        "outputId": "2f78fceb-bf39-446c-cc3e-a2e9db492117"
      },
      "execution_count": 9,
      "outputs": [
        {
          "output_type": "stream",
          "name": "stdout",
          "text": [
            "Current state of visited: {'A'}\n",
            "Neighbour Visiting Now: B\n",
            "Current state of visited: {'A', 'B'}\n",
            "Neighbour Visiting Now: A\n",
            "\u001b[31mNeighbour Already Visited: A\u001b[0m\n",
            "Neighbour Visiting Now: D\n",
            "Current state of visited: {'D', 'A', 'B'}\n",
            "Neighbour Visiting Now: B\n",
            "\u001b[31mNeighbour Already Visited: B\u001b[0m\n",
            "Neighbour Visiting Now: E\n",
            "Current state of visited: {'D', 'A', 'B', 'E'}\n",
            "Neighbour Visiting Now: B\n",
            "\u001b[31mNeighbour Already Visited: B\u001b[0m\n",
            "Neighbour Visiting Now: F\n",
            "Current state of visited: {'D', 'B', 'E', 'F', 'A'}\n",
            "Neighbour Visiting Now: C\n",
            "Current state of visited: {'D', 'B', 'E', 'F', 'A', 'C'}\n",
            "Neighbour Visiting Now: A\n",
            "\u001b[31mNeighbour Already Visited: A\u001b[0m\n",
            "Neighbour Visiting Now: F\n",
            "\u001b[31mNeighbour Already Visited: F\u001b[0m\n",
            "Neighbour Visiting Now: E\n",
            "\u001b[31mNeighbour Already Visited: E\u001b[0m\n",
            "Neighbour Visiting Now: C\n",
            "\u001b[31mNeighbour Already Visited: C\u001b[0m\n",
            "element Z : False\n"
          ]
        }
      ]
    },
    {
      "cell_type": "markdown",
      "source": [
        "# Depth First Search"
      ],
      "metadata": {
        "id": "_MfBb95SnGDH"
      }
    },
    {
      "cell_type": "code",
      "source": [
        "\n",
        "def dfs(graph, start, search_value, visited = None):\n",
        "    if visited is None:\n",
        "        visited = set()\n",
        "        if start == search_value:\n",
        "            return True\n",
        "    visited.add(start)\n",
        "    print(f\"Current state of visited: {visited}\")\n",
        "    # print(f\"Starting Node{start}\")\n",
        "\n",
        "    for neighbour in graph[start]:\n",
        "        print(f\"Neighbour Visiting Now: {neighbour}\")\n",
        "        if neighbour not in visited:\n",
        "            found = dfs(graph, neighbour, search_value, visited)\n",
        "            if found:\n",
        "                return True\n",
        "        else:\n",
        "            print(f\"\\033[31mNeighbour Already Visited: {neighbour}\\033[0m\")\n",
        "\n",
        "    return False\n",
        "\n",
        "graph = {\n",
        "'A': ['B', 'C'],\n",
        "'B': ['A', 'D', 'E'],\n",
        "'C': ['A', 'F'],\n",
        "'D': ['B'],\n",
        "'E': ['B', 'F'],\n",
        "'F': ['C', 'E']\n",
        "}\n",
        "\n",
        "start = \"A\"\n",
        "search_value = \"Z\"\n",
        "res = dfs(graph, start, search_value)\n",
        "print(f\"element {search_value} : {res}\")\n"
      ],
      "metadata": {
        "colab": {
          "base_uri": "https://localhost:8080/"
        },
        "id": "gTqSi_lBnNYm",
        "outputId": "fdec737f-be14-41cc-a39b-ef0bb258fedd"
      },
      "execution_count": 3,
      "outputs": [
        {
          "output_type": "stream",
          "name": "stdout",
          "text": [
            "Current state of visited: {'A'}\n",
            "Neighbour Visiting Now: B\n",
            "Current state of visited: {'A', 'B'}\n",
            "Neighbour Visiting Now: A\n",
            "\u001b[31mNeighbour Already Visited: A\u001b[0m\n",
            "Neighbour Visiting Now: D\n",
            "Current state of visited: {'D', 'A', 'B'}\n",
            "Neighbour Visiting Now: B\n",
            "\u001b[31mNeighbour Already Visited: B\u001b[0m\n",
            "Neighbour Visiting Now: E\n",
            "Current state of visited: {'D', 'A', 'B', 'E'}\n",
            "Neighbour Visiting Now: B\n",
            "\u001b[31mNeighbour Already Visited: B\u001b[0m\n",
            "Neighbour Visiting Now: F\n",
            "Current state of visited: {'D', 'B', 'E', 'F', 'A'}\n",
            "Neighbour Visiting Now: C\n",
            "Current state of visited: {'D', 'B', 'E', 'F', 'A', 'C'}\n",
            "Neighbour Visiting Now: A\n",
            "\u001b[31mNeighbour Already Visited: A\u001b[0m\n",
            "Neighbour Visiting Now: F\n",
            "\u001b[31mNeighbour Already Visited: F\u001b[0m\n",
            "Neighbour Visiting Now: E\n",
            "\u001b[31mNeighbour Already Visited: E\u001b[0m\n",
            "Neighbour Visiting Now: C\n",
            "\u001b[31mNeighbour Already Visited: C\u001b[0m\n",
            "element Z : False\n"
          ]
        }
      ]
    },
    {
      "cell_type": "markdown",
      "metadata": {
        "id": "fnuCCvsenCTR"
      },
      "source": [
        "<div align=\"center\">\n",
        "    <br>\n",
        "    <br>\n",
        "    <br>\n",
        "    <br>\n",
        "    <br>\n",
        "    <br>\n",
        "    <br>\n",
        "    <br>\n",
        "    <h1 style=\"font-size: 40px; margin: 10px 0;\">AI - Uninformed Search</h1>\n",
        "    <h1 style=\"font-size: 20px; font-weight: 400;\">Sharif University of Technology - Computer Engineering Department</h1>\n",
        "    <br>\n",
        "    <h4 style=\"font-size: 18px; font-weight: 400; color:#555\">Fateme Khashei, Hossein Sobhi, Ali asghar Ghanati</h4>\n",
        "    <br>\n",
        "    <br>\n",
        "    <br>\n",
        "    <br>\n",
        "    <br>\n",
        "</div>"
      ]
    },
    {
      "cell_type": "markdown",
      "metadata": {
        "id": "i_stbObznCTT"
      },
      "source": [
        "---"
      ]
    },
    {
      "cell_type": "markdown",
      "metadata": {
        "id": "g8vGuxxmnCTT"
      },
      "source": [
        "<div><h2>Probelm solving agents</h2></div>"
      ]
    },
    {
      "cell_type": "markdown",
      "metadata": {
        "id": "FmwTguoMnCTU"
      },
      "source": [
        "Consider that we are currently in the city Arad, and have a flight leaving tomorrow from Bucharest. We need to find the shortest path from Arad to Bucharest so that we get there in time (a path is a sequence of cities, like: Arad, Sibiu, Fagaras, bucharest). An AI agent can help us achieve this goal (finding the best path) by using <strong>search algorithms</strong>."
      ]
    },
    {
      "cell_type": "markdown",
      "metadata": {
        "id": "gT01AQhvnCTU"
      },
      "source": [
        "![cities](./images/cities.png \"cities\")"
      ]
    },
    {
      "cell_type": "markdown",
      "metadata": {
        "id": "xwjcnM5-nCTV"
      },
      "source": [
        "<div><h2>Search strategies</h2></div>"
      ]
    },
    {
      "cell_type": "markdown",
      "metadata": {
        "id": "PeNoa5LAnCTW"
      },
      "source": [
        "A search strategy is defined by <em>picking the order of node expansion</em>, (expansion means visiting a node in a graph and generating its successors)\n",
        "strategies are evaluated by the following means:\n",
        "<ul>\n",
        "    <li><b>completeness:</b> does it always find a solution if one exists?</li>\n",
        "    <li><b>time complexity:</b> number of nodes generated or expanded</li>\n",
        "    <li><b>space complexity:</b> maximum number of nodes held in memory</li>\n",
        "    <li><b>optimality:</b> does it find the best solution among all solutions?</li>\n",
        "</ul>\n",
        "time and space complexity are measured in terms of:\n",
        "<ul>\n",
        "    <li><b>b:</b> maximum branching factor of the search tree</li>\n",
        "    <li><b>d:</b> depth of the best solution</li>\n",
        "    <li><b>m:</b> maximum depth of the state space (may be infinity)</li>\n",
        "</ul>"
      ]
    },
    {
      "cell_type": "markdown",
      "metadata": {
        "id": "a6qsRCv-nCTW"
      },
      "source": [
        "# Uninformed Search"
      ]
    },
    {
      "cell_type": "markdown",
      "metadata": {
        "id": "0rRef1GXnCTX"
      },
      "source": [
        "Uninformed search is a class of general-purpose search algorithms, used in different data structures, algorithms, and AIs.\n",
        "\n",
        "Uninformed search algorithms do not have additional information about domain in which they are searching for a solution (mostly how far from the goal they are) other than how to traverse the tree, thats why they are called \"uninformed\".\n",
        "\n",
        "Uninformed search algorithms are also called blind search algorithms. The search algorithm produces the search tree without using any domain knowledge, which is a brute force in nature. They don’t have any background information on how to approach the goal or whatsoever. But these are the basics of search algorithms in AI.\n",
        "\n"
      ]
    },
    {
      "cell_type": "markdown",
      "metadata": {
        "id": "Z2kYAQ0HnCTY"
      },
      "source": [
        "The diffrent type of search algorithms are as follows:"
      ]
    },
    {
      "cell_type": "markdown",
      "metadata": {
        "id": "ldXoT2H9nCTY"
      },
      "source": [
        "1. <a href=\"#bfs\">Breadth-first Search</a>\n",
        "2. <a href=\"#ucs\">Uniform cost search</a>\n",
        "3. <a href=\"#dfs\">Depth-first Search</a>\n",
        "4. <a href=\"#dls\">Depth-limited Search</a>\n",
        "5. <a href=\"#ids\">Iterative deepening depth-first search</a>"
      ]
    },
    {
      "cell_type": "markdown",
      "metadata": {
        "id": "NZpqh1-SnCTY"
      },
      "source": [
        "![Search Algorithms](./images/Algorithms.png \"Search Algorithms\")"
      ]
    },
    {
      "cell_type": "markdown",
      "metadata": {
        "id": "SCbxGK-mnCTZ"
      },
      "source": [
        "---"
      ]
    },
    {
      "cell_type": "markdown",
      "metadata": {
        "id": "RFx2KJdfnCTZ"
      },
      "source": [
        "<div id=\"bfs\"><h2>Breadth-First Search</h2></div>"
      ]
    },
    {
      "cell_type": "markdown",
      "metadata": {
        "id": "7PMnMy_enCTZ"
      },
      "source": [
        "Breadth-first search is the most common search strategy for traversing a tree or graph. This algorithm searches breadthwise in a tree or graph, so it is called breadth-first search.\n",
        "\n",
        "BFS algorithm starts searching from the root node of the tree and expands all successor node at the current level before moving to nodes of next level.\n",
        "\n",
        "In the below tree structure, you can see the traversing of the tree using BFS algorithm."
      ]
    },
    {
      "cell_type": "markdown",
      "metadata": {
        "id": "MxbWboDCnCTZ"
      },
      "source": [
        "![BFS](./images/Breadth-First-Search.gif \"Breadth-First Search\")\n",
        "\n",
        "It starts from the root node of the tree which is 1, then goes to the next level and expands 2, we still have two nodes at this level so it expandss those two nodes which are 3 and 4, then there would be no successor left in this level so we can expand the next level and the proccess will be the same which gives us 5, 6, 7, 8 and for the last level we have 9, 10."
      ]
    },
    {
      "cell_type": "markdown",
      "metadata": {
        "id": "n6O09jv-nCTZ"
      },
      "source": [
        "**Completeness:**\n",
        "\n",
        "BFS is complete, which means if the shallowest goal node is at some finite depth, then BFS will find a solution.\n",
        "\n",
        "**Time complexity:**\n",
        "\n",
        "Time Complexity of BFS algorithm can be obtained by the number of nodes traversed in BFS until the shallowest Node.\n",
        "\n",
        "Where the d = depth of shallowest solution and b is a node at every state.\n",
        "\n",
        "> T( b ) = b + b<sup>1</sup> + b<sup>2</sup> + ... + b<sup>d</sup> + b( b<sup>d</sup> - 1 ) = O( b<sup>d+1</sup> )\n",
        "\n",
        "**Space complexity:**\n",
        "\n",
        "BFS algorithm requires a lot of memory space, because it keeps every node in memory.\n",
        "\n",
        "Space complexity of BFS is O( b<sup>d+1</sup> ).\n",
        "\n",
        "**Optimality:**\n",
        "\n",
        "In general, BFS is not optimal.\n",
        "\n",
        "But BFS is optimal if path cost is a non-decreasing function of the depth of the node e.g. `cost per step = 1`.\n",
        "\n",
        "**Pseudocode:**\n",
        "```python\n",
        "function BFS (problem ,graph, source)returns soln/fail\n",
        "    let Q be queue.\n",
        "    Q.enqueue( source )\n",
        "    mark source as visited\n",
        "    while ( Q is not empty)\n",
        "        node  =  Q.dequeue( )\n",
        "        if Goal-Test(problem, State[node]) then return node\n",
        "        for all successor in Expand(node, problem) do\n",
        "            if successor is not visited\n",
        "                Q.enqueue( successor )\n",
        "                mark successor as visited.\n",
        "    return failure\n",
        "\n",
        "```\n",
        "\n",
        "As you can see space is a big problem in this algorithm, it can easily generate nodes at 100MB/sec which means in  24 hours, 8640GB of data will be generated.\n",
        "\n",
        "BFS will return shortest path in terms of number of transitions, It doesn’t find the least cost path.\n",
        "\n",
        "This problem leads us to another search algorithm called Uniform Cost Search which is a generalization of BFS algorithm."
      ]
    },
    {
      "cell_type": "markdown",
      "metadata": {
        "id": "iH3qJRvunCTa"
      },
      "source": [
        "---"
      ]
    },
    {
      "cell_type": "markdown",
      "metadata": {
        "id": "86h6KDtZnCTa"
      },
      "source": [
        "<div id=\"ucs\"><h2>Uniform Cost Search</h2></div>"
      ]
    },
    {
      "cell_type": "markdown",
      "metadata": {
        "id": "GCuu2zYunCTa"
      },
      "source": [
        "Uniform cost search, also called dijkstra, is a searching algorithm used for traversing a weighted tree or graph. This algorithm comes into play when a different cost is available for each edge.\n",
        "\n",
        "The primary goal of the uniform cost search is to find a path to the goal node which has the lowest cumulative cost.\n",
        "\n",
        "Uniformcost search expands nodes according to their path costs form the root node. It can be used to solve any graph or tree where the optimal cost is in demand. It gives maximum priority to the lowest cumulative cost.\n",
        "\n",
        "Uniform cost search is equivalent to BFS algorithm if the path cost of all edges is the same.\n",
        "\n",
        "It should be noted that UCS does not care about the number of steps involved in searching and only concerned about path cost. Due to which this algorithm may be stuck in an infinite loop.\n",
        "\n",
        "In the below tree structure, you can see the traversing of the tree using UCS algorithm."
      ]
    },
    {
      "cell_type": "markdown",
      "metadata": {
        "id": "0Gdmtt08nCTa"
      },
      "source": [
        "![UCS](./images/Uniform-Cost-Search.png \"Uniform Cost Search\")\n",
        "The proccess of visiting the tree is similar to BFS except the fact that in BFS we use depth of the node to decide if we want to expand the node or not but in UFC we make the decision based on distance from root node.\n",
        "\n",
        "In this example we have the root node and then the next level in the tree is consisted of yellow nodes, next green nodes and then purple ones and it goes like that till the end."
      ]
    },
    {
      "cell_type": "markdown",
      "metadata": {
        "id": "8kHfroVdnCTb"
      },
      "source": [
        "**Completeness:**\n",
        "\n",
        "Uniform-cost search is complete, if a goal state exists, UCS will find it because it must have some finite length shortest path.\n",
        "\n",
        "In other words, UCS is complete if the cost of each step exceeds some small positive integer, this to prevent infinite loops.\n",
        "\n",
        "**Time complexity:**\n",
        "\n",
        "Let C* be cost of the optimal solution, and ε be each step to get closer to the goal node. Then the number of steps is C\\*/ε .\n",
        "\n",
        "Hence, the worst-case time complexity of Uniform-cost search is O( b<sup>C\\*/ε</sup> ).\n",
        "\n",
        "**Space complexity:**\n",
        "\n",
        "The same logic is for space complexity so, the worst-case space complexity of Uniform-cost search is O( b<sup>C\\*/ε</sup> ).\n",
        "\n",
        "**Optimality:**\n",
        "\n",
        "Uniform cost search is optimal because at every state the path with the least cost is chosen.\n",
        "\n",
        "**Pseudocode:**\n",
        "```python\n",
        "function UCS (problem, graph, source)returns soln/fail\n",
        "    for each successor in graph do\n",
        "        Set-Infinity-Dist(successor)\n",
        "    let Q be queue.\n",
        "    Q.enqueue(graph)\n",
        "    Dist[source] <- 0\n",
        "    while ( Q is not empty)\n",
        "        node = Get-Min-Dist(Q)\n",
        "        Q.remove(node)\n",
        "        if Goal-Test(problem, State[node]) then return node\n",
        "        for all successor in Expand(node, problem) do\n",
        "            Set-Dist(successor, node)\n",
        "    return failure\n",
        "\n",
        "```\n",
        "\n",
        "\n",
        "This algorithm explores options in every direction because it doesn't have any information about goal location, this problem will be discussed in informed search chapter.\n",
        "\n",
        "As we mentioned before space is a big problem in BFS and the problem still remains in UCS, to solve it we are going to talk about another search algorithm called Depth-First search."
      ]
    },
    {
      "cell_type": "markdown",
      "metadata": {
        "id": "Jir0YftXnCTb"
      },
      "source": [
        "---"
      ]
    },
    {
      "cell_type": "markdown",
      "metadata": {
        "id": "RvFscsw0nCTb"
      },
      "source": [
        "<div id=\"dfs\"><h2>Depth-First Search</h2></div>"
      ]
    },
    {
      "cell_type": "markdown",
      "metadata": {
        "id": "oIERSzFVnCTb"
      },
      "source": [
        "Depth first search is a recursive algorithm for traversing a tree or graph that expands nodes in one branch as deep as the branch goes before expanding nodes in other branches.\n",
        "\n",
        "It is called the depth-first search because it starts from the root node and follows each path to its greatest depth node before moving to the next path.\n",
        "\n",
        "In the below tree structure, you can see the traversing of the tree using DFS algorithm."
      ]
    },
    {
      "cell_type": "markdown",
      "metadata": {
        "id": "BoNq5_1anCTb"
      },
      "source": [
        "![DFS](./images/Depth-First-Search.gif \"Depth-First Search\")\n",
        "It starts from the root node which is 1 then expands a child and goes as deep as it can in the tree, so we get 2, 3 and 4 then it can't go any deeper so it expands another child which is 5 and perform DFS on this node which gives us 6, 7 and 8.\n",
        "\n",
        "Proccess goes on until there is no node left."
      ]
    },
    {
      "cell_type": "markdown",
      "metadata": {
        "id": "ETkhvSlsnCTc"
      },
      "source": [
        "**Completeness:**\n",
        "\n",
        "DFS search algorithm is complete for graphs and trees in finite spaces (depths) as it will expand every node within a limited search tree.\n",
        "\n",
        "DFS for graphs with cycles needs to be modified e.g. keeping the record of visited nodes to avoid processing a node more than once and getting caught in an infinite loop.\n",
        "\n",
        "**Time complexity:**\n",
        "\n",
        "Time complexity of DFS will be equivalent to the node traversed by the algorithm.\n",
        "\n",
        "Let m = maximum depth of any node and this can be much larger than d (Shallowest solution depth).\n",
        "\n",
        "Time complexity of DFS is O( b<sup>m</sup> ) time which is terrible if m is much larger than d.\n",
        "\n",
        "**Space complexity:**\n",
        "\n",
        "DFS algorithm needs to store only single path from the root node, hence space complexity of DFS is equivalent to the size of the fringe set, which is O(bm). ( linear space! )\n",
        "\n",
        "**Optimality:**\n",
        "\n",
        "DFS search algorithm is not optimal, as it may generate a large number of steps to reach to the solution.\n",
        "\n",
        "**Pseudocode:**\n",
        "```python\n",
        "function DFS (problem ,graph, source)returns soln/fail\n",
        "    let S be stack.\n",
        "    S.push( source )\n",
        "    mark source as visited\n",
        "    while ( S is not empty)\n",
        "        node  =  S.pop( )\n",
        "        if Goal-Test(problem, State[node]) then return node\n",
        "        for all successor in Expand(node, problem) do\n",
        "            if successor is not visited\n",
        "                S.push( successor )\n",
        "                mark successor as visited.\n",
        "    return failure\n",
        "\n",
        "```\n",
        "\n",
        "So far we have introduced two algorithms:\n",
        "- BFS which is better in time complexity\n",
        "- DFS which is better in space complexity\n",
        "\n",
        "we are looking for a way to combine strength of both in a method."
      ]
    },
    {
      "cell_type": "markdown",
      "metadata": {
        "id": "anJOAdrqnCTc"
      },
      "source": [
        "---"
      ]
    },
    {
      "cell_type": "markdown",
      "metadata": {
        "id": "4AgqWEW1nCTc"
      },
      "source": [
        "<div id=\"dls\"><h2>Depth Limited Search</h2></div>"
      ]
    },
    {
      "cell_type": "markdown",
      "metadata": {
        "id": "herdGugXnCTc"
      },
      "source": [
        "A depth-limited search algorithm is similar to depth-first search with a with a depth limit.\n",
        "\n",
        "Depth limited search is limited to depth l, which means that nodes at depth l will treat as it has no successor nodes further.\n",
        "\n",
        "Depth-limited search can solve the drawback of the infinite path in the Depth-first search."
      ]
    },
    {
      "cell_type": "markdown",
      "metadata": {
        "id": "TqzTnw2TnCTc"
      },
      "source": []
    },
    {
      "cell_type": "markdown",
      "metadata": {
        "id": "9U2i26TKnCTc"
      },
      "source": [
        "**Completeness:**\n",
        "\n",
        "Depth-limited search algorithm is not complete, because it will not process nodes at depth deeper than l (depth limit).\n",
        "\n",
        "**Time complexity:**\n",
        "\n",
        "Time complexity of DLS algorithm is O( b<sup>l</sup> ).\n",
        "\n",
        "**Space complexity:**\n",
        "\n",
        "Space complexity of DLS algorithm is O( bl ).\n",
        "\n",
        "**Optimality:**\n",
        "\n",
        "Depth-limited search can be viewed as a special case of DFS, and it is also not optimal even if l > d. ( not complete means not optimal! )\n",
        "\n",
        "**Pseudocode:**\n",
        "```python\n",
        "function Depth-Limit-Search(problem, limit) returns soln/fail/cutoff\n",
        "    Recursive-DLS(Make-Node(Initial-State[problem]), problem, limit)\n",
        "    \n",
        "function Recursive-DLS(node, problem, limit) returns soln/fail/cutoff\n",
        "    cutoff-occured? <- false\n",
        "    if Goal-Test(problem, State[node]) then return node\n",
        "    else if Depth[node] = limit then return cutoff\n",
        "    else for each successor in Expand(node, problem) do\n",
        "        result <- Recursive-DLS(successor, problem, limit)\n",
        "        if( ressult = cutoff ) then cutoff-occured? <- true\n",
        "        else if( result != failure ) then return result\n",
        "    if cutoff-occured? then return\n",
        "\n",
        "\n",
        "\n",
        "\n",
        "```"
      ]
    },
    {
      "cell_type": "markdown",
      "metadata": {
        "id": "Xfwn_QvonCTd"
      },
      "source": [
        "---"
      ]
    },
    {
      "cell_type": "markdown",
      "metadata": {
        "id": "n5pxwA_inCTd"
      },
      "source": [
        "<div id=\"ids\"><h2>Iterative Deepening Search</h2></div>"
      ]
    },
    {
      "cell_type": "markdown",
      "metadata": {
        "id": "92AKqUI8nCTd"
      },
      "source": [
        "The iterative deepening algorithm is a combination of DFS and BFS algorithms. This search algorithm finds out the best depth limit and does it by gradually increasing the limit until a goal is found.\n",
        "\n",
        "This algorithm performs depth-first search up to a certain \"depth limit\", and it keeps increasing the depth limit after each iteration until the goal node is found.\n",
        "\n",
        "This Search algorithm combines the benefits of DFS's space-efficiency and BFS's completenessy.\n",
        "\n",
        "The iterative search algorithm is useful uninformed search when search space is large, and depth of goal node is unknown.\n",
        "\n",
        "In the below picture, you can see the traversing of a tree using iterative deepening algorithm."
      ]
    },
    {
      "cell_type": "markdown",
      "metadata": {
        "id": "BCZfZfCnnCTd"
      },
      "source": [
        "![ID-dfs.jpg](https://github.com/sut-ai/notes/blob/master/notebooks/2_uninformed_search/images/ID-dfs.jpg?raw=1)\n",
        "At first Limit is set to 0, it visits root node then limit is increased by 1 and we perform DFS for root and nodes with depth of 1.\n",
        "\n",
        "for limit l, we perform DFS on nodes with maximum depth l and this goes on until we reach the goal."
      ]
    },
    {
      "cell_type": "markdown",
      "metadata": {
        "id": "m2mL5yxVnCTe"
      },
      "source": []
    },
    {
      "cell_type": "markdown",
      "metadata": {
        "id": "w94Lt_1AnCTe"
      },
      "source": [
        "**Completeness:**\n",
        "\n",
        "Iterative deepening search is complete, which means if branching factor is finite, then it will find a solution.\n",
        "\n",
        "**Time complexity:**\n",
        "\n",
        "Let's suppose b is the branching factor and depth is d then the worst-case time complexity is:\n",
        "\n",
        "> T( b ) = (d+1)b<sup>0</sup> + db<sup>1</sup> + (d−1)b<sup>2</sup> + ... + bd = O( b<sup>d</sup> )\n",
        "\n",
        "or more percisely:\n",
        "\n",
        ">T( b ) = O( b<sup>d</sup>(1 – 1/b)<sup>-2</sup> )\n",
        "\n",
        "In this algorithm because of the fact that we want to avoid space problems, we wont store any data therefor we may have to repeat some actions but it won't trouble us because time complexity still remains O( b<sup>d</sup> ), similar to BFS.\n",
        "\n",
        "**Space complexity:**\n",
        "\n",
        "The space complexity of IDDFS will be O( bd )\n",
        "\n",
        "**Optimality:**\n",
        "\n",
        "IDDFS algorithm is optimal if path cost is a non-decreasing function of the depth of the node  e.g. `cost per step = 1`.\n",
        "\n",
        "**Pseudocode:**\n",
        "```python\n",
        "function Iterative-Deepening-Search(problem) returns a solution\n",
        "    inputs: problem, a problem\n",
        "    for depth <- 0 to ∞ do\n",
        "        result <- Depth-Limited-Search(problem, depth)\n",
        "        if result ≠ cutoff then return result\n",
        "    end\n",
        "```"
      ]
    },
    {
      "cell_type": "markdown",
      "metadata": {
        "id": "NTS9ZJ7fnCTe"
      },
      "source": [
        "<div><h2>Summary of Algorithms</h2></div>"
      ]
    },
    {
      "cell_type": "markdown",
      "metadata": {
        "id": "X6ggZmBynCTe"
      },
      "source": [
        "![summary.png](https://github.com/sut-ai/notes/blob/master/notebooks/2_uninformed_search/images/summary.png?raw=1)"
      ]
    },
    {
      "cell_type": "markdown",
      "metadata": {
        "id": "_z5skpp6nCTe"
      },
      "source": [
        "## Refrences:"
      ]
    },
    {
      "cell_type": "markdown",
      "metadata": {
        "id": "bom25Q5snCTe"
      },
      "source": [
        "- AI course teached by Dr. Rohban at Sharif University of Technology, Spring 2021\n",
        "- https://www.javatpoint.com\n",
        "- https://www.analyticsvidhya.com\n",
        "- https://www.geeksforgeeks.org\n",
        "- https://www.wikipedia.org"
      ]
    }
  ],
  "metadata": {
    "kernelspec": {
      "display_name": "Python 3",
      "language": "python",
      "name": "python3"
    },
    "language_info": {
      "codemirror_mode": {
        "name": "ipython",
        "version": 3
      },
      "file_extension": ".py",
      "mimetype": "text/x-python",
      "name": "python",
      "nbconvert_exporter": "python",
      "pygments_lexer": "ipython3",
      "version": "3.7.4"
    },
    "colab": {
      "provenance": []
    }
  },
  "nbformat": 4,
  "nbformat_minor": 0
}