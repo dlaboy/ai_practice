{
 "cells": [
  {
   "cell_type": "markdown",
   "metadata": {},
   "source": [
    "# Breath-First Search\n"
   ]
  },
  {
   "cell_type": "code",
   "execution_count": null,
   "metadata": {},
   "outputs": [],
   "source": [
    "from collections import deque\n",
    "\n",
    "def bfs(graph, start, search_value):\n",
    "    visited = set()\n",
    "    queue = deque([start])\n",
    "    print(f\"Current state of visited: {visited}\")\n",
    "    while queue:\n",
    "        current_node = queue.popleft()\n",
    "        print(f\"Current Node: {current_node}\")\n",
    "        if current_node == search_value:\n",
    "            return True\n",
    "        visited.add(current_node)\n",
    "        for neighbour in graph.get(current_node,[]):\n",
    "            if neighbour not in visited and neighbour not in queue:\n",
    "                queue.append(neighbour)\n",
    "    return False\n",
    "\n",
    "\n",
    "\n",
    "\n",
    "graph = {\n",
    "'A': ['B', 'C'],\n",
    "'B': ['A', 'D', 'E'],\n",
    "'C': ['A', 'F'],\n",
    "'D': ['B'],\n",
    "'E': ['B', 'F'],\n",
    "'F': ['C', 'E']\n",
    "}\n",
    "\n",
    "start = \"A\"\n",
    "search_value = \"Z\"\n",
    "res = bfs(graph, start, search_value)\n",
    "print(f\"element {search_value} : {res}\")\n",
    "\n",
    "\n"
   ]
  },
  {
   "cell_type": "markdown",
   "metadata": {},
   "source": [
    "# Depth-First Search"
   ]
  },
  {
   "cell_type": "code",
   "execution_count": null,
   "metadata": {},
   "outputs": [],
   "source": [
    "\n",
    "def dfs(graph, start, search_value, visited = None):\n",
    "    if visited is None:\n",
    "        visited = set()\n",
    "    if start == search_value:\n",
    "        return True\n",
    "    visited.add(start)\n",
    "    print(f\"Current state of visited: {visited}\")\n",
    "    # print(f\"Starting Node{start}\")\n",
    "\n",
    "    for neighbour in graph[start]:\n",
    "        print(f\"Neighbour Visiting Now: {neighbour}\")\n",
    "        if neighbour not in visited:\n",
    "            found = dfs(graph, neighbour, search_value, visited)\n",
    "            if found:\n",
    "                return True\n",
    "        else:\n",
    "            print(f\"\\033[31mNeighbour Already Visited: {neighbour}\\033[0m\")\n",
    "\n",
    "    return False\n",
    "\n",
    "graph = {\n",
    "'A': ['B', 'C'],\n",
    "'B': ['A', 'D', 'E'],\n",
    "'C': ['A', 'F'],\n",
    "'D': ['B'],\n",
    "'E': ['B', 'F'],\n",
    "'F': ['C', 'E']\n",
    "}\n",
    "\n",
    "start = \"A\"\n",
    "search_value = \"B\"\n",
    "res = dfs(graph, start, search_value)\n",
    "print(f\"element {search_value} : {res}\")\n"
   ]
  },
  {
   "cell_type": "markdown",
   "metadata": {},
   "source": [
    "# Depth-limited Search"
   ]
  },
  {
   "cell_type": "code",
   "execution_count": 37,
   "metadata": {},
   "outputs": [
    {
     "name": "stdout",
     "output_type": "stream",
     "text": [
      "Current Level 0\n",
      "Starting From A\n",
      "Next Neighbour not visited: B\n",
      "Level to move to: 1\n",
      "\n",
      "\n",
      "\n",
      "\n",
      "\n",
      "\n",
      "Current Level 1\n",
      "Starting From B\n",
      "Next Neighbour not visited: D\n",
      "Level to move to: 2\n",
      "\n",
      "\n",
      "\n",
      "\n",
      "\n",
      "\n",
      "Cutoff\n",
      "Last Neighbour visited:  D\n",
      "Next Neighbour not visited: C\n",
      "Level to move to: 2\n",
      "\n",
      "\n",
      "\n",
      "\n",
      "\n",
      "\n",
      "Cutoff\n",
      "Last Neighbour visited:  C\n",
      "element F : Cutoff\n"
     ]
    }
   ],
   "source": [
    "def dls(graph, start, search_value, limit:int, current_level:int = 0, visited = None):\n",
    "    if visited is None:\n",
    "        visited = set()\n",
    "    if start == search_value:\n",
    "        return \"Success\"\n",
    "    if current_level == limit:\n",
    "        print(\"Cutoff\")\n",
    "        print(\"Last Neighbour visited: \",start)\n",
    "        return \"Cutoff\"\n",
    "    print(\"Current Level\", current_level)\n",
    "    print(\"Starting From\", start)\n",
    "\n",
    "    visited.add(start)\n",
    "    for neighbour in graph[start]:\n",
    "        if neighbour not in visited and current_level != limit:\n",
    "            print(\"Next Neighbour not visited:\", neighbour)\n",
    "            print(\"Level to move to:\", current_level + 1)\n",
    "            print(\"\\n\")\n",
    "            print(\"\\n\")\n",
    "            print(\"\\n\")\n",
    "\n",
    "            current_level += 1\n",
    "            found = dls(graph,neighbour,search_value,limit,current_level,visited)\n",
    "            if found == \"Success\":\n",
    "                return \"Success\"\n",
    "    return \"Cutoff\"\n",
    "    \n",
    "graph = {\n",
    "'A': ['B', 'C'],\n",
    "'B': ['A', 'D', 'E'],\n",
    "'C': ['A', 'F'],\n",
    "'D': ['B'],\n",
    "'E': ['B', 'F'],\n",
    "'F': ['C', 'E']\n",
    "}\n",
    "\n",
    "start = \"A\"\n",
    "search_value = \"F\"\n",
    "res = dls(graph, start,search_value,2)\n",
    "print(f\"element {search_value} : {res}\")\n"
   ]
  },
  {
   "cell_type": "markdown",
   "metadata": {},
   "source": [
    "# Iterative Deepening Search"
   ]
  }
 ],
 "metadata": {
  "kernelspec": {
   "display_name": "ai-env",
   "language": "python",
   "name": "python3"
  },
  "language_info": {
   "codemirror_mode": {
    "name": "ipython",
    "version": 3
   },
   "file_extension": ".py",
   "mimetype": "text/x-python",
   "name": "python",
   "nbconvert_exporter": "python",
   "pygments_lexer": "ipython3",
   "version": "3.7.13"
  }
 },
 "nbformat": 4,
 "nbformat_minor": 2
}
