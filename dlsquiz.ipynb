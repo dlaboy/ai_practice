{
  "nbformat": 4,
  "nbformat_minor": 0,
  "metadata": {
    "colab": {
      "provenance": [],
      "authorship_tag": "ABX9TyP5k9uK7QdciBlH1qHKl2P7",
      "include_colab_link": true
    },
    "kernelspec": {
      "name": "python3",
      "display_name": "Python 3"
    },
    "language_info": {
      "name": "python"
    }
  },
  "cells": [
    {
      "cell_type": "markdown",
      "metadata": {
        "id": "view-in-github",
        "colab_type": "text"
      },
      "source": [
        "<a href=\"https://colab.research.google.com/github/dlaboy/ai_practice/blob/main/dlsquiz.ipynb\" target=\"_parent\"><img src=\"https://colab.research.google.com/assets/colab-badge.svg\" alt=\"Open In Colab\"/></a>"
      ]
    },
    {
      "cell_type": "code",
      "source": [
        "def dls(G,start,goal,limit=2):\n",
        "  if start == goal:\n",
        "    return [start]\n",
        "  if limit == 0:\n",
        "    return \"Not found\"\n",
        "  for node in G[start]:\n",
        "    path = dls(G,node,goal,limit-1)\n",
        "    if path != \"Not found\":\n",
        "      return [start] + path\n",
        "  return \"Not found\"\n",
        "\n",
        "graph={\n",
        "    \"A\":[\"B\",\"C\"],\n",
        "    \"B\":[\"D\",\"E\"],\n",
        "    \"C\":[\"F\",\"G\"],\n",
        "    \"D\":[\"H\",\"I\"],\n",
        "    \"E\":[\"J\",\"K\"],\n",
        "    \"F\":[\"L\",\"M\"],\n",
        "}\n",
        "print(dls(graph,\"A\",\"B\",2))\n",
        ""
      ],
      "metadata": {
        "colab": {
          "base_uri": "https://localhost:8080/"
        },
        "id": "uMK0LB863Ai9",
        "outputId": "3b1ff23f-b64a-4de2-ea23-a12fbf864eef"
      },
      "execution_count": 14,
      "outputs": [
        {
          "output_type": "stream",
          "name": "stdout",
          "text": [
            "['A', 'B']\n"
          ]
        }
      ]
    },
    {
      "cell_type": "code",
      "source": [],
      "metadata": {
        "id": "00_NZmp25TBx"
      },
      "execution_count": null,
      "outputs": []
    }
  ]
}